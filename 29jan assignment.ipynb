{
 "cells": [
  {
   "cell_type": "code",
   "execution_count": 1,
   "id": "48dea4b5-e9e7-469e-b5a1-a04e54477058",
   "metadata": {},
   "outputs": [
    {
     "ename": "ZeroDivisionError",
     "evalue": "division by zero",
     "output_type": "error",
     "traceback": [
      "\u001b[0;31m---------------------------------------------------------------------------\u001b[0m",
      "\u001b[0;31mZeroDivisionError\u001b[0m                         Traceback (most recent call last)",
      "Cell \u001b[0;32mIn[1], line 1\u001b[0m\n\u001b[0;32m----> 1\u001b[0m \u001b[38;5;241;43m1\u001b[39;49m\u001b[38;5;241;43m/\u001b[39;49m\u001b[38;5;28;43;01mFalse\u001b[39;49;00m\n",
      "\u001b[0;31mZeroDivisionError\u001b[0m: division by zero"
     ]
    }
   ],
   "source": [
    "1/False"
   ]
  },
  {
   "cell_type": "code",
   "execution_count": 3,
   "id": "830bcefa-3c5d-4c2e-954d-4bf17322f3e4",
   "metadata": {},
   "outputs": [
    {
     "ename": "SyntaxError",
     "evalue": "invalid character '‘' (U+2018) (4291615585.py, line 1)",
     "output_type": "error",
     "traceback": [
      "\u001b[0;36m  Cell \u001b[0;32mIn[3], line 1\u001b[0;36m\u001b[0m\n\u001b[0;31m    ‘pwskills’.isalnum()\u001b[0m\n\u001b[0m    ^\u001b[0m\n\u001b[0;31mSyntaxError\u001b[0m\u001b[0;31m:\u001b[0m invalid character '‘' (U+2018)\n"
     ]
    }
   ],
   "source": [
    "‘pwskills’.isalnum()"
   ]
  },
  {
   "cell_type": "code",
   "execution_count": 4,
   "id": "f037a984-df7f-44cf-8440-f7a023689000",
   "metadata": {},
   "outputs": [
    {
     "ename": "SyntaxError",
     "evalue": "invalid syntax (244623097.py, line 2)",
     "output_type": "error",
     "traceback": [
      "\u001b[0;36m  Cell \u001b[0;32mIn[4], line 2\u001b[0;36m\u001b[0m\n\u001b[0;31m    Q1 ans Guido van Rossum\u001b[0m\n\u001b[0m       ^\u001b[0m\n\u001b[0;31mSyntaxError\u001b[0m\u001b[0;31m:\u001b[0m invalid syntax\n"
     ]
    }
   ],
   "source": [
    "### \n",
    "Q1 ans Guido van Rossum\n",
    "Q2 ans object oreinted programing and structured programing\n",
    "Q3 ans YES case sensitive langauge\n",
    "Q4 ans py.extension\n",
    "Q5 ans python is interpreted code\n",
    "Q6 ans module, function, and class definiton\n",
    "Q7 ans # hash character\n",
    "Q8 ans type()\n",
    "Q9 ans lambda\n",
    "Q10 ans preferred installer program\n",
    "Q11 ans print(), type(), input()\n",
    "Q12 ans maximum length 79 character in python\n",
    "Q13 ans easy to learn \n",
    "        easy to use\n",
    "        time saving\n",
    "Q14 ans Python inovled in private heap containing all python objects and data structures.\n",
    "Q15 ans Right clicking this PC and going to properties\n",
    "        clicking on the advance system setting in the menu on the left\n",
    "        clicking on the enviornment variables button on the bottomright\n",
    "        selecting the path variables and clicking on edit the next screen will show all the directories that are currently a part of the path variable\n",
    "        clicking on new amd entering python install directo\n"
   ]
  },
  {
   "cell_type": "code",
   "execution_count": null,
   "id": "e9f82f79-dbec-4807-8b12-7d67f0620c77",
   "metadata": {},
   "outputs": [],
   "source": []
  }
 ],
 "metadata": {
  "kernelspec": {
   "display_name": "Python 3 (ipykernel)",
   "language": "python",
   "name": "python3"
  },
  "language_info": {
   "codemirror_mode": {
    "name": "ipython",
    "version": 3
   },
   "file_extension": ".py",
   "mimetype": "text/x-python",
   "name": "python",
   "nbconvert_exporter": "python",
   "pygments_lexer": "ipython3",
   "version": "3.10.8"
  }
 },
 "nbformat": 4,
 "nbformat_minor": 5
}
